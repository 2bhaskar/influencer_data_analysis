{
 "cells": [
  {
   "cell_type": "code",
   "execution_count": 2,
   "metadata": {
    "collapsed": false
   },
   "outputs": [],
   "source": [
    "import pandas as pd\n",
    "%matplotlib inline\n",
    "import matplotlib.pyplot as plt"
   ]
  },
  {
   "cell_type": "code",
   "execution_count": 16,
   "metadata": {
    "collapsed": false
   },
   "outputs": [],
   "source": [
    "DATA_PATH = \"contacts_10_+articles_doc_stats.csv\"\n",
    "influencers_df = pd.read_csv(DATA_PATH)"
   ]
  },
  {
   "cell_type": "code",
   "execution_count": 17,
   "metadata": {
    "collapsed": false
   },
   "outputs": [
    {
     "data": {
      "text/plain": [
       "0                                 NaN\n",
       "1                       Senior Writer\n",
       "2                        Movie Critic\n",
       "3                       News Director\n",
       "4                       Senior Editor\n",
       "5     Columnist Freelance Journalist \n",
       "6                            reporter\n",
       "7                    Fishing Reporter\n",
       "8                       Staff Writer \n",
       "9                      Reporter, Host\n",
       "10                             Editor\n",
       "11                           Reporter\n",
       "12                       Beer Blogger\n",
       "13                      Correspondent\n",
       "14                          Reporter \n",
       "15                       Staff Writer\n",
       "Name: role, dtype: object"
      ]
     },
     "execution_count": 17,
     "metadata": {},
     "output_type": "execute_result"
    }
   ],
   "source": [
    "import numpy\n",
    "\n",
    "roles = set(influencers_df[\"Role\"])\n",
    "doc_per_role_df = pd.DataFrame(columns=[\"role\",\"doc_staging\", \"doc_production\"])\n",
    "counter = 0\n",
    "for role in roles :\n",
    "    total_doc_staging = 0\n",
    "    total_doc_production = 0\n",
    "    for index, row in influencers_df.iterrows():\n",
    "        if row[\"Role\"] == role:\n",
    "            total_doc_staging = total_doc_staging + row[\"doc_staging\"]\n",
    "            total_doc_production = total_doc_production + row[\"doc_production\"]\n",
    "    doc_per_role_df.loc[len(doc_per_role_df)] = [role, total_doc_staging, total_doc_production]\n",
    "doc_per_role_df[\"role\"]\n",
    "#ax = doc_per_role_df.plot(kind='bar', legend=False)\n",
    "#ax.grid(True)\n",
    "#l = plt.legend(('Staging', 'Production'), loc='best')"
   ]
  },
  {
   "cell_type": "code",
   "execution_count": 55,
   "metadata": {
    "collapsed": false
   },
   "outputs": [
    {
     "name": "stdout",
     "output_type": "stream",
     "text": [
      "3f78af6c-3a44-41b5-b4e7-34d5d3f46513\n",
      "5d51bc7f-1f97-4610-b28f-5795b80e11b3\n",
      "baa7cd0c-808b-487d-b097-a4a9bc943b0f\n",
      "66ebfb3f-1f35-449e-b77d-adb1eabc2c88\n",
      "e4546b60-cd26-43d7-af7d-7e362c5de031\n",
      "423a866e-2ac6-4f69-846c-24a2299c7106\n",
      "83a2d882-8455-41ae-8e5e-efd6b0e269e5\n",
      "5481d8a6-6003-4d15-8a2a-1d872cee9d5c\n",
      "b8696e2f-45c7-424e-8c1c-47a7d3439acf\n",
      "3b01d8a7-87e3-42ad-8240-16c05ab91c40\n",
      "bd62131a-8038-47b6-bfd0-a9d912115362\n",
      "adbc43da-5576-4114-a418-f5641263cb80\n",
      "e604c650-ce3a-4842-ad12-32bbb3ca1591\n",
      "b7ceef91-d6ad-4430-936e-8a351d34e0cd\n",
      "1f140edb-a9af-45b3-bad7-2231f3fc6dae\n",
      "74206530-6e9a-4a10-8950-f18723799f06\n",
      "ef636875-c255-4bfb-8439-4e16ed2932df\n",
      "3809db4a-c41f-41b3-ab0d-e9e47719aa1f\n",
      "3cb96881-fe89-4630-938a-4f1cf6b0cfa1\n",
      "34340cdc-9615-4f8f-b3a2-738f44a6cf76\n",
      "8c0f9782-346a-4098-b4c1-703cb4b6d95a\n",
      "a0a6ba75-1bf0-4e46-be29-3ebc793d18b7\n",
      "48273ae7-377b-40f4-b887-c84550aa5bb4 \n",
      "c8c47f82-4b26-4405-a880-9bbcdb601d30\n",
      "f1f08b53-7e61-4fd8-9a89-b458125b74bd\n",
      "4fe9fe4e-c9d3-473f-b4a9-a4a05c716635\n",
      "5703f090-1b0c-4660-bb44-184ce9e54c4b\n",
      "5af7f9d8-63d0-48ec-8a23-0d4d4cae50bb\n",
      "bdd6ca76-5de2-4328-b359-0c868a2caf06\n",
      "2a3f87a6-39dd-45fc-bda5-f3908149818a\n",
      "bc57cc43-13b1-49c1-bdc8-bcefbb48e67a\n",
      "d4f130bc-7a55-4957-ba60-7b71b84ad521\n",
      "e2b57e56-b408-4042-bfac-573470dbdc77\n",
      "91e261b9-2811-42c8-a529-0d43005dee56\n",
      "975b5a9a-cd2b-4d6d-84f9-e93adbbe5b4c\n",
      "dd35b799-3682-4ec1-acc5-986ef4e38929\n",
      "9e6b14ba-d3d4-4bd6-9fdd-36cff90ef44f\n",
      "No. doc less than 10:  37\n"
     ]
    }
   ],
   "source": [
    "import numpy\n",
    "doc_stats_array = numpy.zeros(shape=(len(influencers_df), 2))\n",
    "counter_index = 0\n",
    "num_less_than_ten = 0\n",
    "for index, row in influencers_df.iterrows():\n",
    "    #doc_stats_array[counter_index, 0] = counter_index\n",
    "    doc_stats_array[counter_index, 0] = int(row[\"doc_staging\"])\n",
    "    doc_stats_array[counter_index, 1] = int(row[\"doc_production\"])\n",
    "    if (doc_stats_array[counter_index, 0] < 10):\n",
    "        num_less_than_ten = num_less_than_ten + 1\n",
    "        print (row[\"UUID\"])\n",
    "    counter_index = counter_index + 1\n",
    "print (\"No. doc less than 10: \", num_less_than_ten)\n",
    "df_plot = pd.DataFrame(doc_stats_array)"
   ]
  },
  {
   "cell_type": "code",
   "execution_count": 56,
   "metadata": {
    "collapsed": false,
    "scrolled": true
   },
   "outputs": [
    {
     "data": {
      "image/png": "[encoded data removed]",
      "text/plain": [
       "<matplotlib.figure.Figure at 0x112da5a20>"
      ]
     },
     "metadata": {},
     "output_type": "display_data"
    }
   ],
   "source": [
    "ax = df_plot.plot(kind='bar', legend=False)\n",
    "ax.grid(True)\n",
    "l = plt.legend(('Staging', 'Production'), loc='best')"
   ]
  },
  {
   "cell_type": "code",
   "execution_count": null,
   "metadata": {
    "collapsed": false
   },
   "outputs": [],
   "source": []
  },
  {
   "cell_type": "code",
   "execution_count": null,
   "metadata": {
    "collapsed": true
   },
   "outputs": [],
   "source": []
  }
 ],
 "metadata": {
  "kernelspec": {
   "display_name": "IPython (Python 3)",
   "language": "python",
   "name": "python3"
  },
  "language_info": {
   "codemirror_mode": {
    "name": "ipython",
    "version": 3
   },
   "file_extension": ".py",
   "mimetype": "text/x-python",
   "name": "python",
   "nbconvert_exporter": "python",
   "pygments_lexer": "ipython3",
   "version": "3.4.2"
  }
 },
 "nbformat": 4,
 "nbformat_minor": 0
}
