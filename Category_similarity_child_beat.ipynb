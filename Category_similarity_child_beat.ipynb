{
 "cells": [
  {
   "cell_type": "code",
   "execution_count": 1,
   "metadata": {
    "collapsed": true
   },
   "outputs": [],
   "source": [
    "MODEL_PATH = \"/Users/bhaskar/meltwater/GoogleNews-vectors-negative300.bin\""
   ]
  },
  {
   "cell_type": "code",
   "execution_count": 2,
   "metadata": {
    "collapsed": false
   },
   "outputs": [],
   "source": [
    "import gensim\n",
    "model = gensim.models.Word2Vec.load_word2vec_format(MODEL_PATH, binary=True)"
   ]
  },
  {
   "cell_type": "code",
   "execution_count": 71,
   "metadata": {
    "collapsed": true
   },
   "outputs": [],
   "source": [
    "dataset_list = [\"/Users/bhaskar/meltwater/codeRepo/nlp-research/influencer-data/selected_influencers_50_2016-02-15\",\n",
    "               \"/Users/bhaskar/meltwater/codeRepo/nlp-research/influencer-data/selected_influencers_30_2016-02-12\"]"
   ]
  },
  {
   "cell_type": "code",
   "execution_count": 72,
   "metadata": {
    "collapsed": true
   },
   "outputs": [],
   "source": [
    "import json\n",
    "import glob\n",
    "\n",
    "def read_file(fpath):\n",
    "    with open(fpath) as f:\n",
    "        return json.load(f)\n",
    "        \n",
    "def read_data(path):\n",
    "    return [read_file(fp) for fp in glob.glob(path + \"/*.json\")]"
   ]
  },
  {
   "cell_type": "code",
   "execution_count": 73,
   "metadata": {
    "collapsed": true
   },
   "outputs": [],
   "source": [
    "def record2str(beat, field1, field2):\n",
    "    return \"{}_{}\".format(beat[field1], beat[field2].replace(\" \", \"-\"))"
   ]
  },
  {
   "cell_type": "code",
   "execution_count": 74,
   "metadata": {
    "collapsed": true
   },
   "outputs": [],
   "source": [
    "def get_edition_beats_dict(inf_files):\n",
    "    edition_beats_dict = {}\n",
    "    for data in inf_files:\n",
    "        influencer_id = data[\"influencer\"][\"id\"]\n",
    "        for edition in data[\"editions\"]:\n",
    "            ed_beats = set()\n",
    "            for element in edition[\"beats\"]:\n",
    "                ed_beats.add(record2str(element, \"id\", \"name\"))\n",
    "        edition_beats_dict[influencer_id] = [ed_beats]\n",
    "    return edition_beats_dict"
   ]
  },
  {
   "cell_type": "code",
   "execution_count": 75,
   "metadata": {
    "collapsed": true
   },
   "outputs": [],
   "source": [
    "def get_influencer_role_id(inf_files):\n",
    "    influencer_id_role = {}\n",
    "    for data in inf_files:\n",
    "        influencer_id = data[\"influencer\"][\"id\"]\n",
    "        role = set()\n",
    "        for element in data[\"influencer\"][\"roles\"] :\n",
    "            role.add(record2str(element, \"id\", \"name\"))\n",
    "        influencer_id_role[influencer_id] = role\n",
    "    return influencer_id_role"
   ]
  },
  {
   "cell_type": "code",
   "execution_count": 76,
   "metadata": {
    "collapsed": true
   },
   "outputs": [],
   "source": [
    "def get_enrichment_per_influencer(data, enrichment_name):\n",
    "    enrichment_dict = {}\n",
    "    for element in data:\n",
    "        influencer_id = element[\"influencer\"][\"id\"]\n",
    "        enrichment_set = set()\n",
    "        for enrichment in element[\"results\"][enrichment_name]:\n",
    "            enrichment_set.add(enrichment[\"name\"])\n",
    "        enrichment_dict[influencer_id] = [enrichment_set]\n",
    "    return enrichment_dict"
   ]
  },
  {
   "cell_type": "code",
   "execution_count": 77,
   "metadata": {
    "collapsed": false
   },
   "outputs": [],
   "source": [
    "def get_ground_truth_beat_dict(inf_files):\n",
    "    ground_truth_beats_dict = {}\n",
    "    for data in inf_files:\n",
    "        influencer_id = data[\"influencer\"][\"id\"]\n",
    "        gt_beats = set()\n",
    "        for beats in data[\"influencer\"][\"beats\"]:\n",
    "            gt_beats.add(record2str(beats, \"id\", \"name\"))\n",
    "        ground_truth_beats_dict[influencer_id] = gt_beats\n",
    "    return ground_truth_beats_dict"
   ]
  },
  {
   "cell_type": "markdown",
   "metadata": {},
   "source": [
    "Computing relation between cateogory and ground truth child beats"
   ]
  },
  {
   "cell_type": "code",
   "execution_count": 104,
   "metadata": {
    "collapsed": false
   },
   "outputs": [
    {
     "name": "stdout",
     "output_type": "stream",
     "text": [
      "/Users/bhaskar/meltwater/codeRepo/nlp-research/influencer-data/selected_influencers_50_2016-02-15\n",
      "/Users/bhaskar/meltwater/codeRepo/nlp-research/influencer-data/selected_influencers_30_2016-02-12\n",
      "[46.808510638297875, 59.25925925925926]\n"
     ]
    }
   ],
   "source": [
    "import numpy\n",
    "import re\n",
    "\n",
    "def prepare_word(word):\n",
    "    word_new = re.sub(r\"[^\\w\\s]\", ' ', word)\n",
    "    word_new = ' '.join(word_new.split('_'))\n",
    "    word_new = '_'.join(word_new.split())\n",
    "    return word_new\n",
    "\n",
    "def do_similarity_computation(ground_truth_beats_dict, category_dict):\n",
    "    similarity_category = {}\n",
    "    zero_match = 0\n",
    "    for key in ground_truth_beats_dict.keys():\n",
    "        gt_beats = ground_truth_beats_dict[key]\n",
    "        category = category_dict[key]\n",
    "        good_beats = []\n",
    "        for beats in gt_beats:\n",
    "            beats = (beats[beats.find('_') + 1:])\n",
    "            beats_new = prepare_word(beats)\n",
    "            for cat in category[0]:\n",
    "                cat_new = prepare_word(cat)\n",
    "                similarity_score = 0.0\n",
    "                try:\n",
    "                    similarity_score = model.similarity(beats_new.lower(), cat_new)\n",
    "                except:\n",
    "                    similarity_score = 0.0\n",
    "                if similarity_score >= 0.5 :\n",
    "                    good_beats.append(beats)\n",
    "                    break\n",
    "        similarity_category[key] = 100.0 * len(good_beats)/ len(gt_beats)\n",
    "    for values in similarity_category.values():\n",
    "        if values == 0.0:\n",
    "            zero_match = zero_match + 1\n",
    "    score = 0.0\n",
    "    if len(similarity_category) > 0:\n",
    "        score = 100.0 * zero_match / len(similarity_category)\n",
    "    return score\n",
    "\n",
    "zero_match_score = []\n",
    "for dataset in dataset_list:\n",
    "    print (dataset)\n",
    "    inf_files = read_data(dataset)\n",
    "    ground_truth_beats_dict = get_ground_truth_beat_dict(inf_files)\n",
    "    category_dict = get_enrichment_per_influencer(inf_files, \"parentCategories\")\n",
    "    zero_match_score.append(do_similarity_computation(ground_truth_beats_dict, category_dict))\n",
    "print (zero_match_score)  \n"
   ]
  },
  {
   "cell_type": "code",
   "execution_count": null,
   "metadata": {
    "collapsed": true
   },
   "outputs": [],
   "source": []
  }
 ],
 "metadata": {
  "kernelspec": {
   "display_name": "IPython (Python 3)",
   "language": "python",
   "name": "python3"
  },
  "language_info": {
   "codemirror_mode": {
    "name": "ipython",
    "version": 3
   },
   "file_extension": ".py",
   "mimetype": "text/x-python",
   "name": "python",
   "nbconvert_exporter": "python",
   "pygments_lexer": "ipython3",
   "version": "3.4.2"
  }
 },
 "nbformat": 4,
 "nbformat_minor": 0
}
