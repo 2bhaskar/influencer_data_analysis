{
 "cells": [
  {
   "cell_type": "markdown",
   "metadata": {},
   "source": [
    "Reading the big influencer dump csv"
   ]
  },
  {
   "cell_type": "code",
   "execution_count": 5,
   "metadata": {
    "collapsed": true
   },
   "outputs": [],
   "source": [
    "import pandas as pd\n",
    "import numpy as np"
   ]
  },
  {
   "cell_type": "code",
   "execution_count": 6,
   "metadata": {
    "collapsed": true
   },
   "outputs": [],
   "source": [
    "influencer_dump_file = \"influencer_updates.csv\"\n",
    "influencer_dump_dataframe = pd.read_csv(influencer_dump_file)"
   ]
  },
  {
   "cell_type": "markdown",
   "metadata": {},
   "source": [
    "Creating the file list"
   ]
  },
  {
   "cell_type": "code",
   "execution_count": 8,
   "metadata": {
    "collapsed": false
   },
   "outputs": [],
   "source": [
    "file_name_list = []\n",
    "num_file = 10\n",
    "for i in range (0, num_file) :\n",
    "    fn = str(i) + '_doc_stats_staging.csv'\n",
    "    file_name_list.append(fn)"
   ]
  },
  {
   "cell_type": "code",
   "execution_count": 20,
   "metadata": {
    "collapsed": false
   },
   "outputs": [],
   "source": [
    "dataframe_all = pd.DataFrame(columns=[\"UUID\", \"doc_count_staging\"])\n",
    "\n",
    "for file_name in file_name_list:\n",
    "    dataframe_temp = pd.read_csv(file_name_list[0], header = None)\n",
    "    dataframe_temp.columns = [\"UUID\", \"doc_count_staging\"]\n",
    "\n",
    "    dataframe_all = dataframe_all.append(dataframe_temp)"
   ]
  },
  {
   "cell_type": "code",
   "execution_count": 21,
   "metadata": {
    "collapsed": false
   },
   "outputs": [
    {
     "data": {
      "text/html": [
       "<div>\n",
       "<table border=\"1\" class=\"dataframe\">\n",
       "  <thead>\n",
       "    <tr style=\"text-align: right;\">\n",
       "      <th></th>\n",
       "      <th>doc_count_staging</th>\n",
       "    </tr>\n",
       "  </thead>\n",
       "  <tbody>\n",
       "    <tr>\n",
       "      <th>count</th>\n",
       "      <td>100000.000000</td>\n",
       "    </tr>\n",
       "    <tr>\n",
       "      <th>mean</th>\n",
       "      <td>114.099600</td>\n",
       "    </tr>\n",
       "    <tr>\n",
       "      <th>std</th>\n",
       "      <td>838.755066</td>\n",
       "    </tr>\n",
       "    <tr>\n",
       "      <th>min</th>\n",
       "      <td>0.000000</td>\n",
       "    </tr>\n",
       "    <tr>\n",
       "      <th>25%</th>\n",
       "      <td>0.000000</td>\n",
       "    </tr>\n",
       "    <tr>\n",
       "      <th>50%</th>\n",
       "      <td>0.000000</td>\n",
       "    </tr>\n",
       "    <tr>\n",
       "      <th>75%</th>\n",
       "      <td>4.000000</td>\n",
       "    </tr>\n",
       "    <tr>\n",
       "      <th>max</th>\n",
       "      <td>20274.000000</td>\n",
       "    </tr>\n",
       "  </tbody>\n",
       "</table>\n",
       "</div>"
      ],
      "text/plain": [
       "       doc_count_staging\n",
       "count      100000.000000\n",
       "mean          114.099600\n",
       "std           838.755066\n",
       "min             0.000000\n",
       "25%             0.000000\n",
       "50%             0.000000\n",
       "75%             4.000000\n",
       "max         20274.000000"
      ]
     },
     "execution_count": 21,
     "metadata": {},
     "output_type": "execute_result"
    }
   ],
   "source": [
    "dataframe_all.describe()"
   ]
  },
  {
   "cell_type": "markdown",
   "metadata": {},
   "source": [
    "Counting totla zero and non-zero doc_count_staging "
   ]
  },
  {
   "cell_type": "code",
   "execution_count": 40,
   "metadata": {
    "collapsed": false
   },
   "outputs": [
    {
     "name": "stdout",
     "output_type": "stream",
     "text": [
      "62270\n",
      "% of zero doc:  62.27\n"
     ]
    }
   ],
   "source": [
    "zero_doc = len(dataframe_all.groupby('doc_count_staging').groups[0.0])\n",
    "print (zero_doc)\n",
    "print (\"% of zero doc: \", 100.0 * zero_doc / len(dataframe_all))"
   ]
  },
  {
   "cell_type": "code",
   "execution_count": 41,
   "metadata": {
    "collapsed": false
   },
   "outputs": [
    {
     "name": "stdout",
     "output_type": "stream",
     "text": [
      "18520\n",
      "% of more than 10 doc:  18.52\n"
     ]
    }
   ],
   "source": [
    "more_than_10_doc = 0\n",
    "groupby_doc_count_staging = dataframe_all.groupby('doc_count_staging').groups\n",
    "for key in groupby_doc_count_staging.keys() :\n",
    "    if key > 10.0:\n",
    "        more_than_10_doc = more_than_10_doc + len(groupby_doc_count_staging[key])\n",
    "print (more_than_10_doc)\n",
    "print (\"% of more than 10 doc: \", 100.0 * more_than_10_doc / len(dataframe_all))"
   ]
  },
  {
   "cell_type": "markdown",
   "metadata": {},
   "source": [
    "Getting influencer ids having more than n document"
   ]
  },
  {
   "cell_type": "code",
   "execution_count": 42,
   "metadata": {
    "collapsed": false
   },
   "outputs": [
    {
     "data": {
      "text/plain": [
       "18520"
      ]
     },
     "execution_count": 42,
     "metadata": {},
     "output_type": "execute_result"
    }
   ],
   "source": [
    "def get_influencer_id_n_doc(df_all, num_doc):\n",
    "    influencer_id = []\n",
    "    groupby_doc_count_staging = dataframe_all.groupby('doc_count_staging').groups\n",
    "    for key in groupby_doc_count_staging.keys() :\n",
    "        if key > num_doc:\n",
    "            influencer_id.extend(groupby_doc_count_staging[key])\n",
    "    return influencer_id\n",
    "len(get_influencer_id_n_doc(dataframe_all, 10.0))"
   ]
  },
  {
   "cell_type": "code",
   "execution_count": null,
   "metadata": {
    "collapsed": true
   },
   "outputs": [],
   "source": []
  }
 ],
 "metadata": {
  "kernelspec": {
   "display_name": "IPython (Python 3)",
   "language": "python",
   "name": "python3"
  },
  "language_info": {
   "codemirror_mode": {
    "name": "ipython",
    "version": 3
   },
   "file_extension": ".py",
   "mimetype": "text/x-python",
   "name": "python",
   "nbconvert_exporter": "python",
   "pygments_lexer": "ipython3",
   "version": "3.4.2"
  }
 },
 "nbformat": 4,
 "nbformat_minor": 0
}
