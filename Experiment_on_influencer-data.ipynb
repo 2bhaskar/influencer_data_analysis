{
 "cells": [
  {
   "cell_type": "code",
   "execution_count": 16,
   "metadata": {
    "collapsed": true
   },
   "outputs": [],
   "source": [
    "#DATA_PATH = \"/Users/bhaskar/meltwater/codeRepo/nlp-research/influencer-data/2016-02-11\"\n",
    "dataset_list = [\"/Users/bhaskar/meltwater/codeRepo/nlp-research/influencer-data/selected_influencers_50_2016-02-15\",\n",
    "               \"/Users/bhaskar/meltwater/codeRepo/nlp-research/influencer-data/selected_influencers_30_2016-02-12\"]"
   ]
  },
  {
   "cell_type": "markdown",
   "metadata": {},
   "source": [
    "Functions to help with JSON"
   ]
  },
  {
   "cell_type": "code",
   "execution_count": 17,
   "metadata": {
    "collapsed": true
   },
   "outputs": [],
   "source": [
    "import json\n",
    "import glob\n",
    "\n",
    "def read_file(fpath):\n",
    "    with open(fpath) as f:\n",
    "        return json.load(f)\n",
    "        \n",
    "def read_data(path):\n",
    "    return [read_file(fp) for fp in glob.glob(path + \"/*.json\")]"
   ]
  },
  {
   "cell_type": "markdown",
   "metadata": {},
   "source": [
    "Reading all JSON in a list"
   ]
  },
  {
   "cell_type": "code",
   "execution_count": 18,
   "metadata": {
    "collapsed": false
   },
   "outputs": [],
   "source": [
    "#inf_files = read_data(DATA_PATH)"
   ]
  },
  {
   "cell_type": "code",
   "execution_count": 19,
   "metadata": {
    "collapsed": true
   },
   "outputs": [],
   "source": [
    "def record2str(beat, field1, field2):\n",
    "    return \"{}_{}\".format(beat[field1], beat[field2].replace(\" \", \"-\"))"
   ]
  },
  {
   "cell_type": "code",
   "execution_count": 20,
   "metadata": {
    "collapsed": false
   },
   "outputs": [],
   "source": [
    "def get_edition_beat_dict(inf_files):\n",
    "    edition_beats_dict = {}\n",
    "    for data in inf_files:\n",
    "        influencer_id = data[\"influencer\"][\"id\"]\n",
    "        for edition in data[\"editions\"]:\n",
    "            ed_beats = set()\n",
    "            for element in edition[\"beats\"]:\n",
    "                ed_beats.add(record2str(element, \"id\", \"name\"))\n",
    "        edition_beats_dict[influencer_id] = [ed_beats]\n",
    "    return edition_beats_dict"
   ]
  },
  {
   "cell_type": "code",
   "execution_count": 21,
   "metadata": {
    "collapsed": false
   },
   "outputs": [],
   "source": [
    "def get_influencer_id_role(inf_files):\n",
    "    influencer_id_role = {}\n",
    "    for data in inf_files:\n",
    "        influencer_id = data[\"influencer\"][\"id\"]\n",
    "        role = set()\n",
    "        for element in data[\"influencer\"][\"roles\"] :\n",
    "            role.add(record2str(element, \"id\", \"name\"))\n",
    "        influencer_id_role[influencer_id] = role\n",
    "    return influencer_id_role"
   ]
  },
  {
   "cell_type": "markdown",
   "metadata": {},
   "source": [
    "We have now the following data structures:\n",
    "1. edition beasts per influencer\n",
    "2. role per influencer\n",
    "\n",
    "We need:\n",
    "1. aggregated keyphrase per influencer\n",
    "2. aggregated categories per influencer\n",
    "3. aggregated ground truth child_beats per influencer"
   ]
  },
  {
   "cell_type": "code",
   "execution_count": 22,
   "metadata": {
    "collapsed": false
   },
   "outputs": [],
   "source": [
    "def getEnrichmentPerInfluencer(data, enrichment_name):\n",
    "    enrichment_dict = {}\n",
    "    for element in data:\n",
    "        influencer_id = element[\"influencer\"][\"id\"]\n",
    "        enrichment_set = set()\n",
    "        for enrichment in element[\"results\"][enrichment_name]:\n",
    "            enrichment_set.add(enrichment[\"name\"])\n",
    "        enrichment_dict[influencer_id] = [enrichment_set]\n",
    "    return enrichment_dict\n",
    "\n",
    "#keyphrase_dict = getEnrichmentPerInfluencer(inf_files, \"keyphrases\")\n",
    "#category_dict = getEnrichmentPerInfluencer(inf_files, \"parentCategories\")"
   ]
  },
  {
   "cell_type": "code",
   "execution_count": 23,
   "metadata": {
    "collapsed": false
   },
   "outputs": [],
   "source": [
    "def get_ground_truth_beats_dict(inf_files):\n",
    "    ground_truth_beats_dict = {}\n",
    "    for data in inf_files:\n",
    "        influencer_id = data[\"influencer\"][\"id\"]\n",
    "        gt_beats = set()\n",
    "        for beats in data[\"influencer\"][\"beats\"]:\n",
    "            gt_beats.add(record2str(beats, \"id\", \"name\"))\n",
    "        ground_truth_beats_dict[influencer_id] = gt_beats\n",
    "    return ground_truth_beats_dict"
   ]
  },
  {
   "cell_type": "markdown",
   "metadata": {},
   "source": [
    "We got all the data that we will need for the experiment"
   ]
  },
  {
   "cell_type": "markdown",
   "metadata": {},
   "source": [
    "Checking the similarity between edition_beats and ground truth child beat"
   ]
  },
  {
   "cell_type": "code",
   "execution_count": 24,
   "metadata": {
    "collapsed": true
   },
   "outputs": [],
   "source": [
    "def robust_intersect(*args):\n",
    "    try:\n",
    "        return set.intersection(*args)\n",
    "    except:\n",
    "        return {}"
   ]
  },
  {
   "cell_type": "code",
   "execution_count": 25,
   "metadata": {
    "collapsed": false
   },
   "outputs": [],
   "source": [
    "def get_role_all_match(influencer_id_role, edition_beats_dict, ground_truth_beats_dict):\n",
    "    result_sim_ed_beat_gt_beat = {}\n",
    "    all_match_percent_match_role = []\n",
    "    for key in influencer_id_role:\n",
    "        if key in edition_beats_dict:\n",
    "            ed_beats = edition_beats_dict[key][0]\n",
    "            gt_beats = ground_truth_beats_dict[key]\n",
    "            if len(gt_beats) != 0:\n",
    "                intersection = set.intersection(ed_beats, gt_beats)\n",
    "                result_sim_ed_beat_gt_beat[key] = 100.0 * len(intersection)/len(gt_beats)\n",
    "                if result_sim_ed_beat_gt_beat[key] == 100.0 :\n",
    "                    all_match_percent_match_role.append(influencer_id_role[key])\n",
    "    return result_sim_ed_beat_gt_beat, all_match_percent_match_role"
   ]
  },
  {
   "cell_type": "markdown",
   "metadata": {},
   "source": [
    "Computing some stats"
   ]
  },
  {
   "cell_type": "code",
   "execution_count": 26,
   "metadata": {
    "collapsed": false
   },
   "outputs": [
    {
     "name": "stdout",
     "output_type": "stream",
     "text": [
      "[{'4_Blogger', '51_Managing-Editor'}, {'46_Associate-Editor'}, {'9_Editor'}, {'33_Online-Editor', '28_Reporter'}, {'28_Reporter', '15_Host'}, {'13_Freelance-Journalist'}, {'51_Managing-Editor'}]\n",
      "No match: 38.297872340425535 100% match: 14.893617021276595 >=50% < 100% match: 17.02127659574468\n",
      "[18, 7, 17.02127659574468]\n",
      "[{'4_Blogger', '51_Managing-Editor'}, {'46_Associate-Editor'}, {'13_Freelance-Journalist'}, {'9_Editor'}, {'33_Online-Editor', '28_Reporter'}]\n",
      "No match: 33.333333333333336 100% match: 18.51851851851852 >=50% < 100% match: 14.814814814814815\n",
      "[9, 5, 14.814814814814815]\n"
     ]
    }
   ],
   "source": [
    "def get_stats(result_sim_ed_beat_gt_beat) :\n",
    "    num_zero = 0\n",
    "    num_100 = 0\n",
    "    num_more_50 = 0\n",
    "    for values in result_sim_ed_beat_gt_beat.values() :\n",
    "        if values == 0.0:\n",
    "            num_zero = num_zero + 1\n",
    "        elif values == 100.0:\n",
    "            num_100 = num_100 + 1\n",
    "        elif values >= 50.0 :\n",
    "            num_more_50 = num_more_50 + 1\n",
    "    num_zero_match = 0\n",
    "    num_100_match = 0\n",
    "    num_50_100_match = 0\n",
    "    if len(result_sim_ed_beat_gt_beat.keys()) != 0:\n",
    "        num_zero_match = 100.0 * num_zero/len(result_sim_ed_beat_gt_beat.keys())\n",
    "        num_100_match = 100.0 * num_100/len(result_sim_ed_beat_gt_beat.keys())\n",
    "        num_50_100_match = 100.0 * num_more_50/len(result_sim_ed_beat_gt_beat.keys())\n",
    "        print (\"No match:\", 100.0 * num_zero/len(result_sim_ed_beat_gt_beat.keys()),\n",
    "           \"100% match:\", 100.0 * num_100/len(result_sim_ed_beat_gt_beat.keys()),\n",
    "          \">=50% < 100% match:\", 100.0 * num_more_50/len(result_sim_ed_beat_gt_beat.keys()))\n",
    "    return [num_zero, num_100, num_50_100_match]\n",
    "\n",
    "for dataset in dataset_list:\n",
    "    inf_files = read_data(dataset)\n",
    "    edition_beat_dict = get_edition_beat_dict(inf_files)\n",
    "    influencer_role_id = get_influencer_id_role(inf_files)\n",
    "    ground_truth_beat_dict = get_ground_truth_beats_dict(inf_files)\n",
    "    result_sim_ed_beat_gt_beat, all_match_role = get_role_all_match(influencer_role_id, edition_beat_dict, ground_truth_beat_dict)\n",
    "    print (all_match_role)\n",
    "    print (get_stats(result_sim_ed_beat_gt_beat))\n"
   ]
  },
  {
   "cell_type": "code",
   "execution_count": null,
   "metadata": {
    "collapsed": true
   },
   "outputs": [],
   "source": []
  }
 ],
 "metadata": {
  "kernelspec": {
   "display_name": "IPython (Python 3)",
   "language": "python",
   "name": "python3"
  },
  "language_info": {
   "codemirror_mode": {
    "name": "ipython",
    "version": 3
   },
   "file_extension": ".py",
   "mimetype": "text/x-python",
   "name": "python",
   "nbconvert_exporter": "python",
   "pygments_lexer": "ipython3",
   "version": "3.4.2"
  }
 },
 "nbformat": 4,
 "nbformat_minor": 0
}
